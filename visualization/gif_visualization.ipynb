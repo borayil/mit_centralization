{
 "cells": [
  {
   "cell_type": "code",
   "execution_count": 29,
   "metadata": {},
   "outputs": [],
   "source": [
    "import numpy as np\n",
    "import matplotlib.pyplot as plt\n",
    "import seaborn as sns\n",
    "from mpl_toolkits.mplot3d import Axes3D"
   ]
  },
  {
   "cell_type": "code",
   "execution_count": 30,
   "metadata": {},
   "outputs": [],
   "source": [
    "import os\n",
    "path_to_data = os.path.join(os.getcwd(), '..', 'data', 'data.txt')\n",
    "path_to_centralized_data = os.path.join(os.getcwd(), '..', 'data', 'data_centralized.txt')\n",
    "output_path = os.path.join(os.getcwd(), '.', 'output')"
   ]
  },
  {
   "cell_type": "code",
   "execution_count": 31,
   "metadata": {},
   "outputs": [],
   "source": [
    "# Create output directory if it does not exist\n",
    "if not os.path.exists(output_path):\n",
    "    os.makedirs(output_path)\n"
   ]
  },
  {
   "cell_type": "code",
   "execution_count": 32,
   "metadata": {},
   "outputs": [],
   "source": [
    "import numpy as np\n",
    "import matplotlib.pyplot as plt\n",
    "from matplotlib import cm\n",
    "\n",
    "# Load the first data file\n",
    "data_centralized = np.loadtxt(path_to_centralized_data)\n",
    "\n",
    "# Convert the data into a 3D cylindrical coordinate system\n",
    "n_sensors = data_centralized.shape[1]\n",
    "n_depths = data_centralized.shape[0]\n",
    "theta = np.linspace(0, 2 * np.pi, n_sensors)  # evenly distributed angles around the pipe\n",
    "z = np.arange(n_depths) * 5\n",
    "\n",
    "# Create a grid of the theta and z values\n",
    "theta_grid, z_grid = np.meshgrid(theta, z)\n",
    "\n",
    "# Convert from cylindrical to Cartesian coordinates\n",
    "x_centralized = data_centralized * np.cos(theta_grid)\n",
    "y_centralized = data_centralized * np.sin(theta_grid)\n",
    "\n",
    "# Compute the deviation from the expected radius\n",
    "expected_radius = 127\n",
    "radius_deviation = np.abs(data_centralized - expected_radius)\n",
    "norm = plt.Normalize(radius_deviation.min(), radius_deviation.max())  # normalize deviation to [0, 1]\n",
    "\n",
    "# Create the first plot\n",
    "fig = plt.figure(figsize=(20, 12))\n",
    "\n",
    "# Plot for the centralized data\n",
    "ax_centralized = fig.add_subplot(111, projection='3d')\n",
    "\n",
    "# Create a color map\n",
    "colors = cm.viridis(norm(radius_deviation))\n",
    "\n",
    "# Plot for the centralized data\n",
    "surf_centralized = ax_centralized.plot_surface(\n",
    "    x_centralized, y_centralized, z_grid, facecolors=colors, shade=False\n",
    ")\n",
    "\n",
    "# Set the axis labels for the centralized data\n",
    "ax_centralized.set_title('3D Visualization of Centralized Readings')\n",
    "\n",
    "# Set the rotation angle\n",
    "azimuth_start = 0\n",
    "azimuth_end = 360\n",
    "n_frames = 100  # Total number of frames in the animation\n",
    "step = (azimuth_end - azimuth_start) / n_frames  # Step size for each frame\n",
    "elevation_angle = 42\n",
    "\n",
    "# Create a directory to store the frames\n",
    "frames_dir = os.path.join(output_path, \"frames\")\n",
    "os.makedirs(frames_dir, exist_ok=True)\n",
    "\n",
    "# Rotate the plots and save each frame\n",
    "for i in range(n_frames):\n",
    "    azimuth_angle = azimuth_start + i * step\n",
    "    ax_centralized.view_init(elevation_angle, azimuth_angle)\n",
    "    plt.savefig(os.path.join(frames_dir, f'frame_{i}.png'))\n",
    "\n",
    "# Create the GIF\n",
    "frames = []\n",
    "for i in range(n_frames):\n",
    "    new_frame = Image.open(os.path.join(frames_dir, f'frame_{i}.png'))\n",
    "    frames.append(new_frame)\n",
    "\n",
    "# Save into a GIF file\n",
    "gif_save_path = os.path.join(output_path, \"pipe_visualization.gif\")\n",
    "frames[0].save(gif_save_path, format='GIF',\n",
    "               append_images=frames[1:],\n",
    "               save_all=True,\n",
    "               duration=120, loop=0)\n",
    "\n",
    "# Remove the frames\n",
    "for i in range(n_frames):\n",
    "    os.remove(os.path.join(frames_dir, f'frame_{i}.png'))\n",
    "\n",
    "# Remove the frames directory\n",
    "os.rmdir(frames_dir)"
   ]
  }
 ],
 "metadata": {
  "kernelspec": {
   "display_name": "Python 3",
   "language": "python",
   "name": "python3"
  },
  "language_info": {
   "codemirror_mode": {
    "name": "ipython",
    "version": 3
   },
   "file_extension": ".py",
   "mimetype": "text/x-python",
   "name": "python",
   "nbconvert_exporter": "python",
   "pygments_lexer": "ipython3",
   "version": "3.11.3"
  },
  "orig_nbformat": 4
 },
 "nbformat": 4,
 "nbformat_minor": 2
}
